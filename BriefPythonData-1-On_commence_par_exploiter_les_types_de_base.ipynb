{
 "cells": [
  {
   "cell_type": "markdown",
   "metadata": {},
   "source": [
    "### CHERCHER DES SOUS CHAÎNES À L’AIDE D’UNE REGEX"
   ]
  },
  {
   "cell_type": "code",
   "execution_count": 1,
   "metadata": {},
   "outputs": [],
   "source": [
    "import re"
   ]
  },
  {
   "cell_type": "code",
   "execution_count": 2,
   "metadata": {},
   "outputs": [
    {
     "name": "stdout",
     "output_type": "stream",
     "text": [
      "['Daenerys Targaryen', 'Jon Snow', 'Tyrion Lannister']\n"
     ]
    }
   ],
   "source": [
    "series = \"Miss Fisher:Phrany Fisher;GOT:Daenerys Targaryen;X-Files:Dana Scully;Miss Fisher:Jack Robinson; Miss Fisher:Dorothy Williams;GOT:Jon Snow;GOT:Tyrion Lannister;X-Files:Fox Mulder\"\n",
    "\n",
    "pattern = r\":([A-Za-z ]+)[;|$]\"\n",
    "match = re.findall(r\"GOT\" + pattern, series)\n",
    "print(match)"
   ]
  },
  {
   "cell_type": "markdown",
   "metadata": {},
   "source": [
    "### UTILISER UN TEMPLATE POUR GÉNÉRER DU TEXTE"
   ]
  },
  {
   "cell_type": "markdown",
   "metadata": {},
   "source": [
    "```$ sudo pip3 install jinja2```"
   ]
  },
  {
   "cell_type": "markdown",
   "metadata": {},
   "source": [
    "```\n",
    "# modele fichier template modele.tpl\n",
    "\n",
    "Série {{ name | upper }}\n",
    "\n",
    "Personnages :{% for perso in personnages %}\n",
    "    - {{ perso }}{% endfor %}\n",
    "```"
   ]
  },
  {
   "cell_type": "code",
   "execution_count": 3,
   "metadata": {},
   "outputs": [
    {
     "name": "stdout",
     "output_type": "stream",
     "text": [
      "Série TERRA NOVA\n",
      "\n",
      "Personnages :\n",
      "    - Jim Shannon\n",
      "    - Nathaniel Taylor\n",
      "    - …\n"
     ]
    }
   ],
   "source": [
    "# script Python utilisant ce template\n",
    "\n",
    "import jinja2\n",
    "\n",
    "env = jinja2.Environment(loader=jinja2.FileSystemLoader(\".\"))\n",
    "\n",
    "template = env.get_template(\"modele.tpl\")\n",
    "\n",
    "data = {\n",
    "    \"name\": \"Terra Nova\",\n",
    "    \"personnages\": [\"Jim Shannon\", \"Nathaniel Taylor\", \"…\"]\n",
    "}\n",
    "\n",
    "print(template.render(data))"
   ]
  },
  {
   "cell_type": "markdown",
   "metadata": {},
   "source": [
    "### LIRE DES DONNÉES AU CLAVIER"
   ]
  },
  {
   "cell_type": "code",
   "execution_count": 4,
   "metadata": {},
   "outputs": [
    {
     "name": "stdin",
     "output_type": "stream",
     "text": [
      "Donnez un entier : 25\n"
     ]
    },
    {
     "name": "stdout",
     "output_type": "stream",
     "text": [
      "Entier : 25\n"
     ]
    },
    {
     "name": "stdin",
     "output_type": "stream",
     "text": [
      "Donnez une phrase :  Les sanglots longs des violons de l'automne blessent mon coeur d'une langueur monotone.\n"
     ]
    },
    {
     "name": "stdout",
     "output_type": "stream",
     "text": [
      "Chaîne : Les sanglots longs des violons de l'automne blessent mon coeur d'une langueur monotone.\n"
     ]
    },
    {
     "name": "stdin",
     "output_type": "stream",
     "text": [
      "Donnez des réels séparés par une virgule :  -568.01, 1.618, 0.0000000000001\n"
     ]
    },
    {
     "name": "stdout",
     "output_type": "stream",
     "text": [
      "Liste de réels : [-568.01, 1.618, 1e-13]\n"
     ]
    }
   ],
   "source": [
    "error = True\n",
    "while error:\n",
    "    try:\n",
    "        entier = int(input(\"Donnez un entier :\"))\n",
    "        error = False\n",
    "    except:\n",
    "        print(\"Une valeur entière est attendue!\")\n",
    "print(\"Entier : {}\".format(entier))\n",
    "\n",
    "chaine = input(\"Donnez une phrase : \")\n",
    "print(\"Chaîne : {}\".format(chaine))\n",
    "\n",
    "error = True\n",
    "while error:\n",
    "    try:\n",
    "        reels = list(map(float, input(\"Donnez des réels séparés par une virgule : \").split(\",\")))\n",
    "        error = False\n",
    "    except:\n",
    "        print(\"Erreur dans la saisie!\")\n",
    "print(\"Liste de réels : {}\". format(reels))\n",
    "\n",
    "# ATTENTION SÉCU : ne jamais utiliser input() en python2 pour éviter une injection de code"
   ]
  },
  {
   "cell_type": "markdown",
   "metadata": {},
   "source": [
    "### ENREGISTRER ET CHARGER DES MATRICES"
   ]
  },
  {
   "cell_type": "code",
   "execution_count": 5,
   "metadata": {},
   "outputs": [
    {
     "name": "stdout",
     "output_type": "stream",
     "text": [
      "[[1 0 2]\n",
      " [0 3 0]]\n",
      "[[1 1 1 1]\n",
      " [2 2 2 2]\n",
      " [3 3 3 3]]\n"
     ]
    }
   ],
   "source": [
    "from scipy.io import  loadmat, savemat\n",
    "import scipy\n",
    "\n",
    "A = scipy.matrix([[1, 0, 2],[0, 3, 0]])\n",
    "B = scipy.matrix([[1, 1, 1, 1], [2, 2, 2, 2], [3, 3, 3, 3]])\n",
    "savemat(\"ma_matrice.mtx\", {\"A\": A, \"B\":B})\n",
    "\n",
    "m = loadmat(\"ma_matrice.mtx\")\n",
    "print(m[\"A\"])\n",
    "print(m[\"B\"])"
   ]
  },
  {
   "cell_type": "markdown",
   "metadata": {},
   "source": [
    "### UTILISER DES NOMBRES ALÉATOIRES"
   ]
  },
  {
   "cell_type": "code",
   "execution_count": 6,
   "metadata": {},
   "outputs": [
    {
     "name": "stdout",
     "output_type": "stream",
     "text": [
      "2\n",
      "9\n",
      "1\n",
      "4\n",
      "1\n",
      "14.908701741838819\n",
      "13.989821295774762\n",
      "18.031859454455258\n",
      "20.77446702271026\n",
      "6.877191735484698\n"
     ]
    }
   ],
   "source": [
    "import random\n",
    "\n",
    "DEBUG = True\n",
    "\n",
    "if DEBUG:\n",
    "    random.seed(1)\n",
    "\n",
    "for i in range(5):\n",
    "    print(random.randint(0, 10))\n",
    "\n",
    "for i in range(5):\n",
    "    print(random.uniform(5, 25))"
   ]
  },
  {
   "cell_type": "markdown",
   "metadata": {},
   "source": [
    "### VÉRIFIER LA VALIDITÉ D’UNE DATE"
   ]
  },
  {
   "cell_type": "code",
   "execution_count": 7,
   "metadata": {},
   "outputs": [
    {
     "name": "stdin",
     "output_type": "stream",
     "text": [
      "Indiquez un jour au format (jj/mm/aaaa):  -31/13/0000\n"
     ]
    },
    {
     "name": "stdout",
     "output_type": "stream",
     "text": [
      "La date n’est pas valide !\n"
     ]
    }
   ],
   "source": [
    "import datetime\n",
    "\n",
    "date = input(\"Indiquez un jour au format (jj/mm/aaaa): \")\n",
    "try:\n",
    "    (day, month, year) = map(int, date.split(\"/\"))\n",
    "    datetime = datetime.datetime(year, month, day)\n",
    "except ValueError:\n",
    "    print(\"La date n’est pas valide !\")\n"
   ]
  },
  {
   "cell_type": "markdown",
   "metadata": {},
   "source": [
    "### ACCÉDER À UN ENDROIT PRÉCIS D’UN FICHIER"
   ]
  },
  {
   "cell_type": "raw",
   "metadata": {},
   "source": [
    "# créez un fichier texte «fichier.txt»\n",
    "\n",
    "Hello !\n",
    "Fichier texte"
   ]
  },
  {
   "cell_type": "code",
   "execution_count": 9,
   "metadata": {},
   "outputs": [
    {
     "name": "stdout",
     "output_type": "stream",
     "text": [
      "!\n",
      "Fi\n",
      "\n",
      "\n",
      "abc\n"
     ]
    }
   ],
   "source": [
    "try:\n",
    "    with open(\"fichier.txt\", \"r\") as fic:\n",
    "        fic.seek(6)         #Le caractère à l'indice 6 est !\n",
    "        print(fic.read(4))  #Il lit 4 caractères.\n",
    "        fic.seek(21)        #J'ai rajouté du texte pour vérifier.\n",
    "        print(fic.read(5))\n",
    "except FileNotFoundError as e:\n",
    "    print(\"Le fichier {} n’existe pas !\". format(e.filename))\n",
    "    exit(1)"
   ]
  },
  {
   "cell_type": "markdown",
   "metadata": {},
   "source": [
    "### LIRE UN FICHIER TEXTE LIGNE PAR LIGNE"
   ]
  },
  {
   "cell_type": "code",
   "execution_count": 10,
   "metadata": {},
   "outputs": [
    {
     "name": "stdout",
     "output_type": "stream",
     "text": [
      "Hello !\n",
      " Fichier texte\n",
      " \n",
      " abcdefghijklmnopqrstuvwxyzabcdefghijklmnopqrstuvwxyzabcdefghijklmnopqrstuvwxyzabcdefghijklmnopqrstuvwxyzabcdefghijklmnopqrstuvwxyz "
     ]
    }
   ],
   "source": [
    "try:\n",
    "    with open(\"fichier.txt\", \"r\") as fic:\n",
    "        for line in fic:\n",
    "            print(line, end=\" \")\n",
    "except FileNotFoundError as e:\n",
    "    print(\"Le fichier {} n’existe pas !\".format(e.filename))\n",
    "    exit(1)\n",
    "except PermissionError as e:\n",
    "    print(\"Droit de lecture absent sur le fichier {} !\".format(e.filename))\n",
    "    exit(2)\n",
    "except Exception as e:\n",
    "    print(\"Une erreur a empêché l’ouverture du fichier : {}\".format(e.strerror))\n",
    "    exit(3)"
   ]
  },
  {
   "cell_type": "markdown",
   "metadata": {},
   "source": [
    "### CRÉER UN FICHIER XML"
   ]
  },
  {
   "cell_type": "code",
   "execution_count": null,
   "metadata": {},
   "outputs": [],
   "source": [
    "# créez un fichier xml «series.xml»\n",
    "\n",
    "<series>\n",
    "    <nom titre=\"Docteur_Who\" lang=\"fr\">\n",
    "        <personnage>Docteur Who</personnage>\n",
    "        <personnage>Rose Tyler</personnage>\n",
    "        <personnage>Mickey Smith</personnage>\n",
    "    </nom>\n",
    "    <nom titre=\"Game_of_Throne\" lang=\"en\">\n",
    "        <personnage etat=\"mort\">Eddard Stark</personnage>\n",
    "        <personnage etat=\"mort\">Joffrey Baratheon</personnage>\n",
    "        <personnage etat=\"mort\">Margaery Tyrell</personnage>\n",
    "    </nom>\n",
    "</series>"
   ]
  },
  {
   "cell_type": "code",
   "execution_count": null,
   "metadata": {},
   "outputs": [],
   "source": [
    "from lxml import etree\n",
    "\n",
    "root = etree.Element(\"series\")\n",
    "\n",
    "serie = etree.SubElement(root, \"nom\")\n",
    "serie.set(\"lang\", \"fr\")\n",
    "serie.set(\"titre\", \"Docteur_who\")\n",
    "\n",
    "personnages = [\"Docteur Who\", \"Rose Tyler\", \"Mickey Smith\"]\n",
    "\n",
    "for perso in personnages:\n",
    "    personnage = etree.SubElement(serie, \"personnage\")\n",
    "    personnage.text = perso\n",
    "    \n",
    "try:\n",
    "    with open(\"series.xml\", \"w\") as fic:\n",
    "        fic.write((etree.tostring(root, pretty_print=True)).decode(\"utf-8\"))\n",
    "except IOError:\n",
    "    print(\"Problème rencontré lors de l’écriture…\")\n",
    "    exit(1)"
   ]
  },
  {
   "cell_type": "markdown",
   "metadata": {},
   "source": [
    "### LIRE UN FICHIER XML"
   ]
  },
  {
   "cell_type": "code",
   "execution_count": 11,
   "metadata": {},
   "outputs": [
    {
     "name": "stdout",
     "output_type": "stream",
     "text": [
      "Serie Docteur_who en fr:\n",
      " Docteur Who\n",
      " Rose Tyler\n",
      " Mickey Smith\n"
     ]
    }
   ],
   "source": [
    "from lxml import etree\n",
    "\n",
    "tree = etree.parse(\"series.xml\")\n",
    "\n",
    "for node in tree.xpath(\"//series/nom\"):\n",
    "    print(\"Serie {} en {}:\".format(node.get(\"titre\"), node.get(\"lang\")))\n",
    "    for perso in node.xpath(\"personnage\"):\n",
    "        print(\" {}\".format(perso.text))"
   ]
  },
  {
   "cell_type": "markdown",
   "metadata": {},
   "source": [
    "### CRÉER UN FICHIER JSON"
   ]
  },
  {
   "cell_type": "code",
   "execution_count": 12,
   "metadata": {},
   "outputs": [],
   "source": [
    "import json\n",
    "\n",
    "data = {\n",
    "    \"series\": {\n",
    "        \"Docteur Who\":{\n",
    "            \"personnages\":[\n",
    "                \"Docteur Who\",\n",
    "                \"Rose Tyler\",\n",
    "                \"Mickey Smith\"\n",
    "            ]\n",
    "        }\n",
    "    }\n",
    "}\n",
    "\n",
    "try:\n",
    "    with open(\"series.json\", \"w\") as fic:\n",
    "        fic.write(json.dumps(data, indent=4))\n",
    "except:\n",
    "    print(\"Erreur lors de la création du fichier\")\n",
    "    exit(1)"
   ]
  },
  {
   "cell_type": "markdown",
   "metadata": {},
   "source": [
    "### LIRE UN FICHIER JSON"
   ]
  },
  {
   "cell_type": "code",
   "execution_count": 13,
   "metadata": {},
   "outputs": [
    {
     "name": "stdout",
     "output_type": "stream",
     "text": [
      "{'series': {'Docteur Who': {'personnages': ['Docteur Who', 'Rose Tyler', 'Mickey Smith']}}}\n"
     ]
    }
   ],
   "source": [
    "try:\n",
    "    with open(\"series.json\", \"r\") as fic:\n",
    "        series = json.load(fic)\n",
    "except:\n",
    "    print(\"Erreur lors de la lecture du fichier\")\n",
    "    exit(1)\n",
    "\n",
    "print(series)"
   ]
  },
  {
   "cell_type": "markdown",
   "metadata": {},
   "source": [
    "### PARCOURIR UNE LISTE"
   ]
  },
  {
   "cell_type": "code",
   "execution_count": 14,
   "metadata": {},
   "outputs": [
    {
     "name": "stdout",
     "output_type": "stream",
     "text": [
      "0 Jarod\n",
      "1 Miss Parker\n",
      "2 Sydney\n",
      "3 Broots\n",
      "4 Raines\n"
     ]
    }
   ],
   "source": [
    "ma_liste = [\"Jarod\", \"Miss Parker\", \"Sydney\", \"Broots\", \"Raines\"]\n",
    "\n",
    "for num, name in enumerate(ma_liste):\n",
    "    print(num, name)"
   ]
  },
  {
   "cell_type": "markdown",
   "metadata": {},
   "source": [
    "### TRIER UNE LISTE D’ENTIERS LUS SOUS FORME D’UNE CHAÎNE DE CARACTÈRES"
   ]
  },
  {
   "cell_type": "code",
   "execution_count": 15,
   "metadata": {},
   "outputs": [
    {
     "name": "stdout",
     "output_type": "stream",
     "text": [
      "[1, 4, 5, 6, 8, 12, 21, 24, 33]\n"
     ]
    }
   ],
   "source": [
    "liste = \"5;12 ; 24; 6; 1 ;8 ;33\\n; 21\\r; 4\"\n",
    "liste_triee = sorted(map(int, liste.split(\";\")))\n",
    "print(list(liste_triee))"
   ]
  },
  {
   "cell_type": "markdown",
   "metadata": {},
   "source": [
    "### TRIER UNE LISTE AVEC UNE FONCTION DE TRI PERSONNALISÉE"
   ]
  },
  {
   "cell_type": "code",
   "execution_count": 16,
   "metadata": {},
   "outputs": [
    {
     "name": "stdout",
     "output_type": "stream",
     "text": [
      "[('Monica', 6), ('Rachel', 5), ('Joey', 4), ('Phoebe', 3), ('Chandler', 2), ('Ross', 1)]\n"
     ]
    }
   ],
   "source": [
    "ma_liste = [(\"Joey\", 4), (\"Chandler\", 2), (\"Rachel\", 5), (\"Ross\", 1), (\"Phoebe\", 3),  (\"Monica\", 6)]\n",
    "\n",
    "ma_liste.sort(key = lambda elt : elt[1], reverse = True)\n",
    "\n",
    "print(ma_liste)"
   ]
  },
  {
   "cell_type": "markdown",
   "metadata": {},
   "source": [
    "### SUPPRIMER LES DOUBLONS DANS UNE LISTE"
   ]
  },
  {
   "cell_type": "code",
   "execution_count": 17,
   "metadata": {},
   "outputs": [
    {
     "name": "stdout",
     "output_type": "stream",
     "text": [
      "[1, 2, 3, 4, 5, 6, 7]\n"
     ]
    }
   ],
   "source": [
    "ma_liste = [1, 1, 2, 4, 4, 5, 3, 2, 3, 6, 7, 6, 6, 7, 7]\n",
    "\n",
    "ma_liste_sans_doublon = list(set(ma_liste))\n",
    "\n",
    "print(ma_liste_sans_doublon)"
   ]
  },
  {
   "cell_type": "markdown",
   "metadata": {},
   "source": [
    "### TRIER LES VALEURS D’UN DICTIONNAIRE"
   ]
  },
  {
   "cell_type": "code",
   "execution_count": 18,
   "metadata": {},
   "outputs": [
    {
     "name": "stdout",
     "output_type": "stream",
     "text": [
      "Aigail\n",
      "Anthony\n",
      "Leroy Jethro\n",
      "Timothy\n",
      "Ziva\n"
     ]
    }
   ],
   "source": [
    "dico = {}\n",
    "dico[\"David\"] = \"Ziva\"\n",
    "dico[\"Gibbs\"] = \"Leroy Jethro\"\n",
    "dico[\"DiNozzo\"] = \"Anthony\"\n",
    "dico[\"Sciuto\"] = \"Aigail\"\n",
    "dico[\"McGee\"] = \"Timothy\"\n",
    "\n",
    "for firstname in sorted(dico.values()):\n",
    "    print(firstname)"
   ]
  },
  {
   "cell_type": "markdown",
   "metadata": {},
   "source": [
    "### CONSERVER L’ORDRE DES ÉLÉMENTS DANS UN DICTIONNAIRE"
   ]
  },
  {
   "cell_type": "code",
   "execution_count": 19,
   "metadata": {},
   "outputs": [
    {
     "name": "stdout",
     "output_type": "stream",
     "text": [
      "Richard Castle\n",
      "Kate Beckett\n",
      "Javier Esposito\n",
      "Kevin Ryan\n"
     ]
    }
   ],
   "source": [
    "# par déf, un dictionnaire est une structure non ordonnée\n",
    "import collections\n",
    "\n",
    "dico = collections.OrderedDict()\n",
    "dico[\"Castle\"] = \"Richard\"\n",
    "dico[\"Beckett\"] = \"Kate\"\n",
    "dico[\"Esposito\"] = \"Javier\"\n",
    "dico[\"Ryan\"] = \"Kevin\"\n",
    "\n",
    "\n",
    "for name, firstname in dico.items():\n",
    "    print(firstname, name)"
   ]
  },
  {
   "cell_type": "code",
   "execution_count": 20,
   "metadata": {},
   "outputs": [
    {
     "name": "stdout",
     "output_type": "stream",
     "text": [
      "Richard Castle\n",
      "Kate Beckett\n",
      "Javier Esposito\n",
      "Kevin Ryan\n"
     ]
    }
   ],
   "source": [
    "#Test sans utiliser collections.OrderedDict\n",
    "dico = {}\n",
    "dico[\"Castle\"] = \"Richard\"\n",
    "dico[\"Beckett\"] = \"Kate\"\n",
    "dico[\"Esposito\"] = \"Javier\"\n",
    "dico[\"Ryan\"] = \"Kevin\"\n",
    "\n",
    "\n",
    "for name, firstname in dico.items():\n",
    "    print(firstname, name)"
   ]
  },
  {
   "cell_type": "markdown",
   "metadata": {},
   "source": [
    "### CRÉER UN DICTIONNAIRE QUI SOIT LA FUSION DE DEUX DICTIONNAIRES"
   ]
  },
  {
   "cell_type": "code",
   "execution_count": 21,
   "metadata": {},
   "outputs": [
    {
     "name": "stdout",
     "output_type": "stream",
     "text": [
      "{'Nathaniel': 'Taylor', 'Malcom': 'Wallace', 'Lucas': 'Taylor', 'Jim': 'Shannon', 'Elisabeth': 'Shannon', 'Maddy': 'Shannon'}\n"
     ]
    }
   ],
   "source": [
    "dico_1 = {\"Nathaniel\": \"Taylor\", \"Malcom\": \"Wallace\", \"Lucas\": \"Taylor\"}\n",
    "dico_2 = {\"Jim\": \"Shannon\", \"Elisabeth\": \"Shannon\", \"Maddy\": \"Shannon\"}\n",
    "\n",
    "new_dico = dico_1.copy()\n",
    "new_dico.update(dico_2)\n",
    "print(new_dico)"
   ]
  },
  {
   "cell_type": "markdown",
   "metadata": {},
   "source": [
    "### [BONUS] CRÉER UNE LISTE EN UTILISANT LA COMPRÉHENSION DE LISTE"
   ]
  },
  {
   "cell_type": "code",
   "execution_count": 22,
   "metadata": {},
   "outputs": [
    {
     "name": "stdout",
     "output_type": "stream",
     "text": [
      "[(1, 1, 1), (4, 16, 64), (7, 49, 343), (12, 144, 1728)]\n",
      "[(0, 0), (0, 1), (0, 2), (0, 3), (0, 4), (0, 5), (0, 6), (0, 7), (0, 8), (0, 9), (0, 10), (1, 0), (1, 1), (1, 2), (1, 3), (1, 4), (1, 5), (1, 6), (1, 7), (1, 8), (1, 9), (1, 10), (2, 0), (2, 1), (2, 2), (2, 3), (2, 4), (2, 5), (2, 6), (2, 7), (2, 8), (2, 9), (2, 10), (3, 0), (3, 1), (3, 2), (3, 3), (3, 4), (3, 5), (3, 6), (3, 7), (3, 8), (3, 9), (3, 10), (4, 0), (4, 1), (4, 2), (4, 3), (4, 4), (4, 5), (4, 6), (4, 7), (4, 8), (4, 9), (4, 10), (5, 0), (5, 1), (5, 2), (5, 3), (5, 4), (5, 5), (5, 6), (5, 7), (5, 8), (5, 9), (5, 10), (6, 0), (6, 1), (6, 2), (6, 3), (6, 4), (6, 5), (6, 6), (6, 7), (6, 8), (6, 9), (6, 10), (7, 0), (7, 1), (7, 2), (7, 3), (7, 4), (7, 5), (7, 6), (7, 7), (7, 8), (7, 9), (7, 10), (8, 0), (8, 1), (8, 2), (8, 3), (8, 4), (8, 5), (8, 6), (8, 7), (8, 8), (8, 9), (8, 10), (9, 0), (9, 1), (9, 2), (9, 3), (9, 4), (9, 5), (9, 6), (9, 7), (9, 8), (9, 9), (9, 10), (10, 0), (10, 1), (10, 2), (10, 3), (10, 4), (10, 5), (10, 6), (10, 7), (10, 8), (10, 9), (10, 10)]\n"
     ]
    }
   ],
   "source": [
    "ma_liste = [(num, num**2, num**3) for num in (1, 4, 7, 12)]\n",
    "#Pour chaque nombre de la liste, elle rend le nombre, son carré \\\n",
    "#et son cube.\n",
    "\n",
    "ma_liste_2 = [(x, y) for x in range(11) for y in range(11)]\n",
    "#Elle affiche tous les couples possibles de nombres jusqu'à 10.\n",
    "\n",
    "print(ma_liste)\n",
    "\n",
    "print(ma_liste_2)"
   ]
  },
  {
   "cell_type": "markdown",
   "metadata": {},
   "source": [
    "### [BONUS] CRÉER UN DICTIONNAIRE EN UTILISANT LA COMPRÉHENSION DE DICTIONNAIRE"
   ]
  },
  {
   "cell_type": "code",
   "execution_count": 23,
   "metadata": {},
   "outputs": [
    {
     "name": "stdout",
     "output_type": "stream",
     "text": [
      "{'MURDOCH': 'William', 'OGDEN': 'Julia', 'BRACKENREID': 'Thomas', 'CRABTREE': 'George'}\n"
     ]
    }
   ],
   "source": [
    "ma_liste = [\"murdoch\", \"william\", \"ogden\", \"julia\", \"brackenreid\", \"thomas\", \"crabtree\", \"george\"]\n",
    "\n",
    "dico = { name.upper() : firstname.capitalize() for name, firstname in zip(ma_liste[::2], ma_liste[1::2])}\n",
    "\n",
    "print(dico)"
   ]
  },
  {
   "cell_type": "code",
   "execution_count": null,
   "metadata": {},
   "outputs": [],
   "source": []
  }
 ],
 "metadata": {
  "kernelspec": {
   "display_name": "Python 3",
   "language": "python",
   "name": "python3"
  },
  "language_info": {
   "codemirror_mode": {
    "name": "ipython",
    "version": 3
   },
   "file_extension": ".py",
   "mimetype": "text/x-python",
   "name": "python",
   "nbconvert_exporter": "python",
   "pygments_lexer": "ipython3",
   "version": "3.8.6"
  }
 },
 "nbformat": 4,
 "nbformat_minor": 4
}
